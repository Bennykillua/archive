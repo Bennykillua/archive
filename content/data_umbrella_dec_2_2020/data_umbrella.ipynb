{
 "cells": [
  {
   "cell_type": "markdown",
   "metadata": {
    "slideshow": {
     "slide_type": "slide"
    }
   },
   "source": [
    "# How to get involved in NumPy\n",
    "\n",
    "### Matti Picus\n",
    "### Data Umbrella webcast Dec 2, 2020"
   ]
  },
  {
   "cell_type": "markdown",
   "metadata": {
    "slideshow": {
     "slide_type": "slide"
    }
   },
   "source": [
    "# What will we do in the next 50 minutes?\n",
    "- A brief history of NumPy: when, what, who?\n",
    "- What drives NumPy: what are the goals?\n",
    "- Communication channels\n",
    "- Various repos on github: how does it all fit together\n",
    "- Building and testing NumPy\n",
    "- Take a look at some issues and PRs\n",
    "- Q&A"
   ]
  },
  {
   "cell_type": "markdown",
   "metadata": {
    "slideshow": {
     "slide_type": "slide"
    }
   },
   "source": [
    "# But first:\n",
    "\n",
    "Matti Picus, Quansight developer. Previously employed by Berkeley Institute of Data Science to work full time on NumPy. Avid Open Source evangelist: have converted many Matlab users to Python and told a few that Matlab will suite their workflow better. PyPy core contributor. \"Kibbutznik\". Believe that diversity and inclusion are important to human society."
   ]
  },
  {
   "cell_type": "markdown",
   "metadata": {
    "slideshow": {
     "slide_type": "slide"
    }
   },
   "source": [
    "# History\n",
    "\n",
    "<img src=\"history.png\" width=75%>"
   ]
  },
  {
   "cell_type": "markdown",
   "metadata": {
    "slideshow": {
     "slide_type": "slide"
    }
   },
   "source": [
    "<img src=\"../../presentation_resources/NumPy_info_header.svg\">"
   ]
  },
  {
   "cell_type": "markdown",
   "metadata": {
    "slideshow": {
     "slide_type": "notes"
    }
   },
   "source": [
    "History\n",
    "how library got started, who are the core contributors, where are they located, how does funding work? how many are volunteers?), governance\n"
   ]
  },
  {
   "cell_type": "code",
   "execution_count": null,
   "metadata": {
    "slideshow": {
     "slide_type": "slide"
    }
   },
   "outputs": [],
   "source": [
    "# About us\n",
    "from IPython.display import IFrame, display\n",
    "display(IFrame(\"https://numpy.org/about/index.html\", width=\"100%\", height=400))"
   ]
  },
  {
   "cell_type": "code",
   "execution_count": null,
   "metadata": {},
   "outputs": [],
   "source": [
    "# Roadmap and NEPS\n",
    "from IPython.display import IFrame, display\n",
    "display(IFrame(\"https://numpy.org/neps/\", width=\"100%\", height=400))"
   ]
  },
  {
   "cell_type": "markdown",
   "metadata": {
    "slideshow": {
     "slide_type": "notes"
    }
   },
   "source": [
    "Roadmap -> current goals: interoperability is #1"
   ]
  },
  {
   "cell_type": "markdown",
   "metadata": {
    "slideshow": {
     "slide_type": "slide"
    }
   },
   "source": [
    "# \"Philisophy\" of NumPy: community is foremost\n",
    "\n",
    "- Don't break anything\n",
    "- A nice way to work with a chunk of memory on CPU\n",
    "- Performance is important\n",
    "- Interoperability beats performance\n",
    "- Provide a minimum of tools to work with the chunk of memory, delegate to other libraries\n",
    "  - In: fft, random, linalg, distutils, polynomial, f2py\n",
    "  - Out: optimizations (scipy), image loading (Pillow, scikit-image), GPU (Cupy, JAX)"
   ]
  },
  {
   "cell_type": "code",
   "execution_count": null,
   "metadata": {
    "slideshow": {
     "slide_type": "notes"
    }
   },
   "outputs": [],
   "source": []
  }
 ],
 "metadata": {
  "celltoolbar": "Slideshow",
  "kernelspec": {
   "display_name": "Python 3",
   "language": "python",
   "name": "python3"
  },
  "language_info": {
   "codemirror_mode": {
    "name": "ipython",
    "version": 3
   },
   "file_extension": ".py",
   "mimetype": "text/x-python",
   "name": "python",
   "nbconvert_exporter": "python",
   "pygments_lexer": "ipython3",
   "version": "3.8.6"
  }
 },
 "nbformat": 4,
 "nbformat_minor": 4
}
